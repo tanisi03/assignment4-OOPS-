{
  "nbformat": 4,
  "nbformat_minor": 0,
  "metadata": {
    "colab": {
      "provenance": []
    },
    "kernelspec": {
      "name": "python3",
      "display_name": "Python 3"
    },
    "language_info": {
      "name": "python"
    }
  },
  "cells": [
    {
      "cell_type": "markdown",
      "source": [
        "Assignment 4"
      ],
      "metadata": {
        "id": "tUIOPp9e4SGo"
      }
    },
    {
      "cell_type": "code",
      "source": [
        "#Q1 What are the five key concepts of Object-Oriented Programming (OOP)?\n",
        "\n",
        "#The five key concepts of object-oriented programming (oop) are:\n",
        "\n",
        "#1. Inheritance\n",
        "#2. Abstraction\n",
        "#3. Polymorphism\n",
        "#4. Encapsulation\n",
        "#5. Decorators\n"
      ],
      "metadata": {
        "id": "REBwCSnK4Pw_"
      },
      "execution_count": 1,
      "outputs": []
    },
    {
      "cell_type": "code",
      "source": [
        "#Q2  Write a Python class for a `Car` with attributes for `make`, `model`, and `year`. Include a method to display the car's information."
      ],
      "metadata": {
        "id": "jGZREhGd9tLW"
      },
      "execution_count": 11,
      "outputs": []
    },
    {
      "cell_type": "code",
      "source": [
        "class Car:\n",
        "    def __init__(self, make, model, year):\n",
        "        self.make = make\n",
        "        self.model = model\n",
        "        self.year = year\n",
        "\n",
        "    def display_info(self):\n",
        "        print(f\"Make: {self.make}\")\n",
        "        print(f\"Model: {self.model}\")\n",
        "        print(f\"Year: {self.year}\")\n",
        "\n",
        "\n",
        "# Example usage:\n",
        "my_car = Car(\"Toyota\", \"Camry\", 2023)\n",
        "my_car.display_info()\n"
      ],
      "metadata": {
        "colab": {
          "base_uri": "https://localhost:8080/"
        },
        "id": "zOG0G5YyCgAa",
        "outputId": "c1c54050-bf4a-4100-8b1d-405771a8d135"
      },
      "execution_count": 20,
      "outputs": [
        {
          "output_type": "stream",
          "name": "stdout",
          "text": [
            "Make: Toyota\n",
            "Model: Camry\n",
            "Year: 2023\n"
          ]
        }
      ]
    },
    {
      "cell_type": "code",
      "source": [
        "#Q3. Explain the difference between instance methods and class methods. Provide an example of each.\n",
        "\n",
        "#Instance Method: used to view or change an object's state. A method is referred to as an instance method if it uses instance variables\n",
        "#Class Method: used to access or alter the class state. If we exclusively use class variables when implementing a method, we should declare that method as a class method."
      ],
      "metadata": {
        "id": "dmK2qNrlCkmn"
      },
      "execution_count": 21,
      "outputs": []
    },
    {
      "cell_type": "code",
      "source": [
        "#example of instance method\n",
        "class Dog:\n",
        "    def __init__(self, name, breed):\n",
        "        self.name = name\n",
        "        self.breed = breed\n",
        "\n",
        "    def bark(self):\n",
        "        print(f\"{self.name} the {self.breed} says Woof!\")\n",
        "\n",
        "my_dog = Dog(\"shiro\", \"Golden Retriever\")\n",
        "\n",
        "my_dog.bark()"
      ],
      "metadata": {
        "colab": {
          "base_uri": "https://localhost:8080/"
        },
        "id": "JY-RtDVAJvYu",
        "outputId": "dbb6f84e-0d47-493a-93fc-70947b9c5675"
      },
      "execution_count": 37,
      "outputs": [
        {
          "output_type": "stream",
          "name": "stdout",
          "text": [
            "shiro the Golden Retriever says Woof!\n"
          ]
        }
      ]
    },
    {
      "cell_type": "code",
      "source": [
        "#example of class method\n",
        "class Dog:\n",
        "    species = \"golden retriever\"\n",
        "\n",
        "    def __init__(self, name, breed):\n",
        "        self.name = name\n",
        "        self.breed = breed\n",
        "\n",
        "    def bark(self):\n",
        "        print(f\"{self.name} the {self.breed} says Woof!\")\n",
        "\n",
        "    @classmethod\n",
        "    def get_species(cls):\n",
        "        return cls.species\n",
        "\n",
        "\n",
        "print(Dog.get_species())"
      ],
      "metadata": {
        "colab": {
          "base_uri": "https://localhost:8080/"
        },
        "id": "jSaa5CxHK29m",
        "outputId": "1313026a-264d-4549-93b6-a20aeda873ce"
      },
      "execution_count": 39,
      "outputs": [
        {
          "output_type": "stream",
          "name": "stdout",
          "text": [
            "golden retriever\n"
          ]
        }
      ]
    },
    {
      "cell_type": "code",
      "source": [
        "#Q4. How does Python implement method overloading? Give an example.\n",
        "\n",
        "class Calculator:\n",
        "    def add(self, x, y=None, z=None):\n",
        "        if y is None and z is None:\n",
        "            return x\n",
        "        elif z is None:\n",
        "            return x + y\n",
        "        else:\n",
        "            return x + y + z\n",
        "\n",
        "calc = Calculator()\n",
        "\n",
        "print(calc.add(5))\n",
        "print(calc.add(5, 3))\n",
        "print(calc.add(5, 3, 2))"
      ],
      "metadata": {
        "colab": {
          "base_uri": "https://localhost:8080/"
        },
        "id": "WvX2OnZEK4Xt",
        "outputId": "1526ed74-98e5-4d07-e31e-6ad0f528a238"
      },
      "execution_count": 43,
      "outputs": [
        {
          "output_type": "stream",
          "name": "stdout",
          "text": [
            "5\n",
            "8\n",
            "10\n"
          ]
        }
      ]
    },
    {
      "cell_type": "code",
      "source": [
        "#Q5. What are the three types of access modifiers in Python? How are they denoted?\n",
        "\n",
        "# Private, public, and protected are the three different access modifier types that Python offers.\n",
        "#Public Member : from outside of class, anywhere accessible.\n",
        "#Private Member : Within the class, accessible.\n",
        "#Protected Member : Public Member : Within the class and its subclasses, accessible."
      ],
      "metadata": {
        "id": "vTl2_CscOHFv"
      },
      "execution_count": 44,
      "outputs": []
    },
    {
      "cell_type": "code",
      "source": [
        "#Public\n",
        "class Student:\n",
        "    def __init__(self, name, degree):\n",
        "        self.name = name\n",
        "        self.degree = degree\n",
        ""
      ],
      "metadata": {
        "id": "dZ6v5327Sw-P"
      },
      "execution_count": 51,
      "outputs": []
    },
    {
      "cell_type": "code",
      "source": [
        "stud1 = Student(\"tanu\", \"bca\")\n",
        "stud1.name"
      ],
      "metadata": {
        "colab": {
          "base_uri": "https://localhost:8080/",
          "height": 35
        },
        "id": "CxCksmnBTHJJ",
        "outputId": "eef3b8e8-30a9-4f30-e9ef-47ee1bf17f4c"
      },
      "execution_count": 57,
      "outputs": [
        {
          "output_type": "execute_result",
          "data": {
            "text/plain": [
              "'tanu'"
            ],
            "application/vnd.google.colaboratory.intrinsic+json": {
              "type": "string"
            }
          },
          "metadata": {},
          "execution_count": 57
        }
      ]
    },
    {
      "cell_type": "code",
      "source": [
        "stud1.degree"
      ],
      "metadata": {
        "colab": {
          "base_uri": "https://localhost:8080/",
          "height": 35
        },
        "id": "B2zFAfeaTNA3",
        "outputId": "ec246586-6155-40d1-f7fb-57fe98035073"
      },
      "execution_count": 58,
      "outputs": [
        {
          "output_type": "execute_result",
          "data": {
            "text/plain": [
              "'bca'"
            ],
            "application/vnd.google.colaboratory.intrinsic+json": {
              "type": "string"
            }
          },
          "metadata": {},
          "execution_count": 58
        }
      ]
    },
    {
      "cell_type": "code",
      "source": [
        "#Private\n",
        "class Student:\n",
        "    def __init__(self, name, degree):\n",
        "        self.name = name\n",
        "        self.__degree = degree #private data\n",
        "\n",
        "    def show(self):\n",
        "        #accessing the private data member\n",
        "        print(\"name\", self.name, 'degree', self.__degree)"
      ],
      "metadata": {
        "id": "dkG4SYhGTc9n"
      },
      "execution_count": 59,
      "outputs": []
    },
    {
      "cell_type": "code",
      "source": [
        "aj = Student(\"tanu\", \"bca\")\n",
        "aj.show()"
      ],
      "metadata": {
        "colab": {
          "base_uri": "https://localhost:8080/"
        },
        "id": "TkTvxsqYT1f8",
        "outputId": "59b3198e-26d8-46c4-8e3b-a97f0fab0d0e"
      },
      "execution_count": 61,
      "outputs": [
        {
          "output_type": "stream",
          "name": "stdout",
          "text": [
            "name tanu degree bca\n"
          ]
        }
      ]
    },
    {
      "cell_type": "code",
      "source": [
        "#Protected\n",
        "class College:\n",
        "    def __init__(self):\n",
        "        self._college_name = \"PWSkills\"\n",
        "class Student(College):\n",
        "    def __init__(self, name):\n",
        "        self.name = name\n",
        "        College.__init__(self)\n",
        "\n",
        "    def show(self):\n",
        "        print(\"name\", self.name, \"college\", self._college_name)"
      ],
      "metadata": {
        "id": "NxtXHSONT9gQ"
      },
      "execution_count": 62,
      "outputs": []
    },
    {
      "cell_type": "code",
      "source": [
        "stud = Student(\"Tanu\")\n",
        "stud.show()"
      ],
      "metadata": {
        "colab": {
          "base_uri": "https://localhost:8080/"
        },
        "id": "Xdkz0pKHUmKF",
        "outputId": "2bca2a3e-a97e-4637-aea5-64d2d7eceba9"
      },
      "execution_count": 65,
      "outputs": [
        {
          "output_type": "stream",
          "name": "stdout",
          "text": [
            "name Tanu college PWSkills\n"
          ]
        }
      ]
    },
    {
      "cell_type": "code",
      "source": [
        "#Q6. Describe the five types of inheritance in Python. Provide a simple example of multiple inheritance.\n",
        "\n",
        "\n",
        "#1. Single Inheritance:when a class has only one parent,it is said to have a single inheritance.\n",
        "#2. Multiple inheritance : One child class may inherit from several parent classes when there is multiple inheritance\n",
        "#3. Multilevel Inheritance : A class inherits from a child class or derived class under multilevel inheritance. Think of three classes: A, B, and C. Superclass A, child class B, and child class C are all subclasses of A. In other words, multilevel inheritance is the term used to describe a set of classes.\n",
        "#4. Hierarchical Inheritance : A single parent class gives rise to multiple child classes under hierarchical inheritance. To put it another way, we can say that there is one parent class and several child classes.\n",
        "#5. Hybrid inheritance : When inheritance consists of multiple types or a combination of different inheritance is called hybrid inheritance."
      ],
      "metadata": {
        "id": "1WWWOfwuUtt1"
      },
      "execution_count": 66,
      "outputs": []
    },
    {
      "cell_type": "code",
      "source": [
        "#example of multiple inheritance\n",
        "class ParentClass1:\n",
        "    def method1(self):\n",
        "        print(\"method 1 of parent class 1\")\n",
        "class ParentClass2:\n",
        "    def method2(self):\n",
        "        print(\"method2 of parent class 2\")"
      ],
      "metadata": {
        "id": "TqwEilnvYOVz"
      },
      "execution_count": 67,
      "outputs": []
    },
    {
      "cell_type": "code",
      "source": [
        "class ChildClass(ParentClass1, ParentClass2):\n",
        "    def method(self):\n",
        "        print(\"method of child class\")"
      ],
      "metadata": {
        "id": "iH02FCdhYPLE"
      },
      "execution_count": 68,
      "outputs": []
    },
    {
      "cell_type": "code",
      "source": [
        "c1 = ChildClass()\n",
        "c1.method()"
      ],
      "metadata": {
        "colab": {
          "base_uri": "https://localhost:8080/"
        },
        "id": "vkDRWUbFYR7w",
        "outputId": "c9f3f895-232d-4838-b872-6f09c74b157d"
      },
      "execution_count": 69,
      "outputs": [
        {
          "output_type": "stream",
          "name": "stdout",
          "text": [
            "method of child class\n"
          ]
        }
      ]
    },
    {
      "cell_type": "code",
      "source": [
        "c1.method1()"
      ],
      "metadata": {
        "colab": {
          "base_uri": "https://localhost:8080/"
        },
        "id": "8Yt-5DASYWRt",
        "outputId": "26c209b7-e8ce-49ab-e4a9-667d2dc76844"
      },
      "execution_count": 70,
      "outputs": [
        {
          "output_type": "stream",
          "name": "stdout",
          "text": [
            "method 1 of parent class 1\n"
          ]
        }
      ]
    },
    {
      "cell_type": "code",
      "source": [
        "c1.method2()"
      ],
      "metadata": {
        "colab": {
          "base_uri": "https://localhost:8080/"
        },
        "id": "KmUnKzs_YZEH",
        "outputId": "6c87f010-ca1e-4cb1-ea3c-5abf15f9eb0d"
      },
      "execution_count": 71,
      "outputs": [
        {
          "output_type": "stream",
          "name": "stdout",
          "text": [
            "method2 of parent class 2\n"
          ]
        }
      ]
    },
    {
      "cell_type": "code",
      "source": [
        "#Q7. What is the Method Resolution Order (MRO) in Python? How can you retrieve it programmatically?\n",
        "\n",
        "#To mitigate the diamond problem, Python uses a method resolution order (MRO) algorithm called C3 linearization. The MRO determines the order in which the base classes are searched for a method or attribute. It follows a specific set of rules to ensure a consistent and unambiguous order"
      ],
      "metadata": {
        "id": "7gbH-vKnYbxR"
      },
      "execution_count": 72,
      "outputs": []
    },
    {
      "cell_type": "code",
      "source": [
        "class A:\n",
        "    def method(self):\n",
        "        print(\"Method in A\")\n",
        "\n",
        "class B(A):\n",
        "    def method(self):\n",
        "        print(\"Method in B\")\n",
        "\n",
        "class C(A):\n",
        "    def method(self):\n",
        "        print(\"Method in C\")\n",
        "\n",
        "class D(B, C):\n",
        "    pass\n",
        "\n",
        "# Retrieve MRO using __mro__ attribute\n",
        "print(D.__mro__)\n",
        "\n",
        "# Retrieve MRO using mro() method\n",
        "print(D.mro())"
      ],
      "metadata": {
        "colab": {
          "base_uri": "https://localhost:8080/"
        },
        "id": "VLIfpmBwnutp",
        "outputId": "a65d7651-ae7e-468d-f0b8-144a282b7c24"
      },
      "execution_count": 111,
      "outputs": [
        {
          "output_type": "stream",
          "name": "stdout",
          "text": [
            "(<class '__main__.D'>, <class '__main__.B'>, <class '__main__.C'>, <class '__main__.A'>, <class 'object'>)\n",
            "[<class '__main__.D'>, <class '__main__.B'>, <class '__main__.C'>, <class '__main__.A'>, <class 'object'>]\n"
          ]
        }
      ]
    },
    {
      "cell_type": "code",
      "source": [
        "#Q8. Create an abstract base class `Shape` with an abstract method `area()`. Then create two subclasses`Circle` and `Rectangle` that implement the `area()` method\n",
        "\n",
        "\n",
        "from abc import ABC, abstractmethod\n",
        "import math\n",
        "\n",
        "class Shape(ABC):\n",
        "    @abstractmethod\n",
        "    def area(self):\n",
        "        pass\n",
        "\n",
        "class Circle(Shape):\n",
        "    def __init__(self, radius):\n",
        "        self.radius = radius\n",
        "\n",
        "    def area(self):\n",
        "        return math.pi * self.radius * self.radius\n",
        "\n",
        "class Rectangle(Shape):\n",
        "    def __init__(self, width, height):\n",
        "        self.width = width\n",
        "        self.height = height\n",
        "\n",
        "    def area(self):\n",
        "        return self.width * self.height\n",
        "\n",
        "# Example usage\n",
        "circle = Circle(5)\n",
        "rectangle = Rectangle(4, 6)\n",
        "\n",
        "print(f\"Area of circle: {circle.area()}\")\n",
        "print(f\"Area of rectangle: {rectangle.area()}\")\n",
        "\n",
        "\n",
        "\n"
      ],
      "metadata": {
        "colab": {
          "base_uri": "https://localhost:8080/"
        },
        "id": "_l3w4QRWZxs0",
        "outputId": "5c09f4bd-d0cc-4e1d-b840-3e046a0e72e7"
      },
      "execution_count": 78,
      "outputs": [
        {
          "output_type": "stream",
          "name": "stdout",
          "text": [
            "Area of circle: 78.53981633974483\n",
            "Area of rectangle: 24\n"
          ]
        }
      ]
    },
    {
      "cell_type": "code",
      "source": [
        "#Q9. Demonstrate polymorphism by creating a function that can work with different shape objects to calculate and print their areas.\n",
        "\n",
        "from abc import ABC, abstractmethod\n",
        "import math\n",
        "\n",
        "class Shape(ABC):\n",
        "    @abstractmethod\n",
        "    def area(self):\n",
        "        pass\n",
        "\n",
        "class Circle(Shape):\n",
        "    def __init__(self, radius):\n",
        "        self.radius = radius\n",
        "\n",
        "    def area(self):\n",
        "        return math.pi * self.radius * self.radius\n",
        "\n",
        "class Rectangle(Shape):\n",
        "    def __init__(self, width, height):\n",
        "        self.width = width\n",
        "        self.height = height\n",
        "\n",
        "    def area(self):\n",
        "        return self.width * self.height\n",
        "\n",
        "def print_area(shape):\n",
        "    \"\"\"\n",
        "    Demonstrates polymorphism by working with different shape objects.\n",
        "    \"\"\"\n",
        "    print(f\"Area: {shape.area()}\")\n",
        "\n",
        "# Create instances of Circle and Rectangle\n",
        "circle = Circle(5)\n",
        "rectangle = Rectangle(4, 6)\n",
        "\n",
        "# Use the print_area function with different shape objects\n",
        "print_area(circle)\n",
        "print_area(rectangle)\n"
      ],
      "metadata": {
        "colab": {
          "base_uri": "https://localhost:8080/"
        },
        "id": "B6p3UG-ybpOU",
        "outputId": "223ecbf1-7ce3-4db9-c59f-84e45671c0b7"
      },
      "execution_count": 80,
      "outputs": [
        {
          "output_type": "stream",
          "name": "stdout",
          "text": [
            "Area: 78.53981633974483\n",
            "Area: 24\n"
          ]
        }
      ]
    },
    {
      "cell_type": "code",
      "source": [
        "#Q10. Implement encapsulation in a `BankAccount` class with private attributes for `balance` and `account_number`. Include methods for deposit, withdrawal, and balance inquiry.\n",
        "\n",
        "class BankAccount:\n",
        "    def __init__(self, account_number, initial_balance=0):\n",
        "        self.__account_number = account_number\n",
        "        self.__balance = initial_balance\n",
        "\n",
        "    def deposit(self, amount):\n",
        "        if amount > 0:\n",
        "            self.__balance += amount\n",
        "            print(f\"Deposited ${amount}. New balance: ${self.__balance}\")\n",
        "        else:\n",
        "            print(\"Invalid deposit amount.\")\n",
        "\n",
        "    def withdraw(self, amount):\n",
        "        if amount > 0 and amount <= self.__balance:\n",
        "            self.__balance -= amount\n",
        "            print(f\"Withdrew ${amount}. New balance: ${self.__balance}\")\n",
        "        else:\n",
        "            print(\"Invalid withdrawal amount or insufficient funds.\")\n",
        "\n",
        "    def get_balance(self):\n",
        "        print(f\"Account balance: ${self.__balance}\")\n",
        "\n",
        "# Example Usage\n",
        "my_account = BankAccount(\"1234567890\", 1000)\n",
        "my_account.deposit(500)\n",
        "my_account.withdraw(200)\n",
        "my_account.get_balance()\n"
      ],
      "metadata": {
        "colab": {
          "base_uri": "https://localhost:8080/"
        },
        "id": "7S5DMzNIctzf",
        "outputId": "21c58e7c-8ab7-4ed3-8b32-722d659b8ca6"
      },
      "execution_count": 81,
      "outputs": [
        {
          "output_type": "stream",
          "name": "stdout",
          "text": [
            "Deposited $500. New balance: $1500\n",
            "Withdrew $200. New balance: $1300\n",
            "Account balance: $1300\n"
          ]
        }
      ]
    },
    {
      "cell_type": "code",
      "source": [
        "#Q11. Write a class that overrides the `__str__` and `__add__` magic methods. What will these methods allow you to do?\n",
        "\n",
        "class CustomClass:\n",
        "    def __init__(self, value):\n",
        "        self.value = value\n",
        "\n",
        "    def __str__(self):\n",
        "        return f\"CustomClass with value: {self.value}\"\n",
        "\n",
        "    def __add__(self, other):\n",
        "        if isinstance(other, CustomClass):\n",
        "            return CustomClass(self.value + other.value)\n",
        "        else:\n",
        "            return CustomClass(self.value + other)\n",
        "\n",
        "# Example usage\n",
        "obj1 = CustomClass(10)\n",
        "obj2 = CustomClass(20)\n",
        "\n",
        "print(obj1)\n",
        "print(obj1 + obj2)\n",
        "print(obj1 + 5)"
      ],
      "metadata": {
        "colab": {
          "base_uri": "https://localhost:8080/"
        },
        "id": "OnEgu3bLdQlU",
        "outputId": "11327a7c-8225-4759-e493-a078b94eac04"
      },
      "execution_count": 90,
      "outputs": [
        {
          "output_type": "stream",
          "name": "stdout",
          "text": [
            "CustomClass with value: 10\n",
            "CustomClass with value: 30\n",
            "CustomClass with value: 15\n"
          ]
        }
      ]
    },
    {
      "cell_type": "code",
      "source": [
        "#__str__(self): This method is called when the str() function is used on an instance of the class. It should return a string representation of the object\n",
        "#__add__(self, other): This method is called when the + operator is used with instances of the class. It should return the result of addition ."
      ],
      "metadata": {
        "id": "rQ4KcqE1fuGR"
      },
      "execution_count": 91,
      "outputs": []
    },
    {
      "cell_type": "code",
      "source": [
        "#Q12. Create a decorator that measures and prints the execution time of a function.\n",
        "\n",
        "import time\n",
        "\n",
        "def time_it(func):\n",
        "    def wrapper(*args, **kwargs):\n",
        "        start_time = time.time()\n",
        "        result = func(*args, **kwargs)\n",
        "        end_time = time.time()\n",
        "        execution_time = end_time - start_time\n",
        "        print(f\"Execution time of {func.__name__}: {execution_time} seconds\")\n",
        "        return result\n",
        "    return wrapper\n",
        "\n",
        "@time_it\n",
        "def my_function():\n",
        "    time.sleep(2)\n",
        "\n",
        "my_function()\n"
      ],
      "metadata": {
        "colab": {
          "base_uri": "https://localhost:8080/"
        },
        "id": "3KnbaXbYgWTj",
        "outputId": "662c2c0e-bbe3-4400-865e-37b6d5fc6b7c"
      },
      "execution_count": 92,
      "outputs": [
        {
          "output_type": "stream",
          "name": "stdout",
          "text": [
            "Execution time of my_function: 2.0021166801452637 seconds\n"
          ]
        }
      ]
    },
    {
      "cell_type": "code",
      "source": [
        "#Q13. Explain the concept of the Diamond Problem in multiple inheritance. How does Python resolve it?\n",
        "\n",
        "#The diamond problem is a specific issue that can arise in programming languages that support multiple inheritance, including Python. It occurs when a class inherits from two or more classes that have a common base class\n",
        "#To mitigate the diamond problem, Python uses a method resolution order (MRO) algorithm called C3 linearization. The MRO determines the order in which the base classes are searched for a method or attribute. It follows a specific set of rules to ensure a consistent and unambiguous order\n"
      ],
      "metadata": {
        "id": "IYLKoBNXhR1d"
      },
      "execution_count": 93,
      "outputs": []
    },
    {
      "cell_type": "code",
      "source": [
        "#example\n",
        "class A:\n",
        "    def method(self):\n",
        "        print(\"Method in A\")\n",
        "\n",
        "class B(A):\n",
        "    def method(self):\n",
        "        print(\"Method in B\")\n",
        "\n",
        "class C(A):\n",
        "    def method(self):\n",
        "        print(\"Method in C\")\n",
        "\n",
        "class D(B, C):\n",
        "    pass\n",
        "\n",
        "d = D()\n",
        "d.method()\n",
        "print(D.mro())"
      ],
      "metadata": {
        "colab": {
          "base_uri": "https://localhost:8080/"
        },
        "id": "SMQJa0VHkKIO",
        "outputId": "3a62576d-4311-42a8-ff5a-30fb072ee932"
      },
      "execution_count": 107,
      "outputs": [
        {
          "output_type": "stream",
          "name": "stdout",
          "text": [
            "Method in B\n",
            "[<class '__main__.D'>, <class '__main__.B'>, <class '__main__.C'>, <class '__main__.A'>, <class 'object'>]\n"
          ]
        }
      ]
    },
    {
      "cell_type": "code",
      "source": [
        "#Q14. Write a class method that keeps track of the number of instances created from a class.\n",
        "\n",
        "\n",
        "class MyClass:\n",
        "    num_instances = 0\n",
        "\n",
        "    def __init__(self):\n",
        "        MyClass.num_instances += 1\n",
        "\n",
        "    @classmethod\n",
        "    def get_num_instances(cls):\n",
        "        return cls.num_instances\n",
        "\n",
        "# Creating instances of the class\n",
        "obj1 = MyClass()\n",
        "obj2 = MyClass()\n",
        "obj3 = MyClass()\n",
        "\n",
        "# Getting the number of instances created\n",
        "print(MyClass.get_num_instances())\n"
      ],
      "metadata": {
        "colab": {
          "base_uri": "https://localhost:8080/"
        },
        "id": "dAEfq_UBkK7V",
        "outputId": "e224a0f4-0b7c-43a5-d2a0-7fab38abc15f"
      },
      "execution_count": 109,
      "outputs": [
        {
          "output_type": "stream",
          "name": "stdout",
          "text": [
            "3\n"
          ]
        }
      ]
    },
    {
      "cell_type": "code",
      "source": [
        "#Q15. Implement a static method in a class that checks if a given year is a leap year.\n",
        "\n",
        "\n",
        "class LeapYearChecker:\n",
        "    @staticmethod\n",
        "    def is_leap_year(year):\n",
        "        return (year % 4 == 0 and year % 100 != 0) or year % 400 == 0\n",
        "\n",
        "# Test the static method\n",
        "year_to_check = 2024\n",
        "if LeapYearChecker.is_leap_year(year_to_check):\n",
        "    print(f\"{year_to_check} is a leap year.\")\n",
        "else:\n",
        "    print(f\"{year_to_check} is not a leap year.\")\n"
      ],
      "metadata": {
        "colab": {
          "base_uri": "https://localhost:8080/"
        },
        "id": "N-4fvbC9ltii",
        "outputId": "ffef6cdb-d831-448e-f73a-c61afc30028a"
      },
      "execution_count": 110,
      "outputs": [
        {
          "output_type": "stream",
          "name": "stdout",
          "text": [
            "2024 is a leap year.\n"
          ]
        }
      ]
    }
  ]
}